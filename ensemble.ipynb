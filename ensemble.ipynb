{
 "cells": [
  {
   "attachments": {},
   "cell_type": "markdown",
   "metadata": {},
   "source": [
    "Ensemble learning"
   ]
  },
  {
   "attachments": {},
   "cell_type": "markdown",
   "metadata": {},
   "source": [
    "To get simple averaging voting result, put params = [1,1,1, .....]"
   ]
  },
  {
   "cell_type": "code",
   "execution_count": 556,
   "metadata": {},
   "outputs": [],
   "source": [
    "import numpy as np\n",
    "def regular_voting(classifier_list, params):\n",
    "    summa = []\n",
    "    num = len(classifier_list)\n",
    "    for i in range(len(classifier_list[0])):\n",
    "        comp = 0\n",
    "        for j in range(num):\n",
    "            comp += params[j]*classifier_list[j][i] / num\n",
    "        summa.append(comp)\n",
    "    y_hat = []\n",
    "    norm = 0\n",
    "    for i in range(len(params)):\n",
    "        norm += params[i] / len(params)\n",
    "    for i in range(len(summa)):\n",
    "        if summa[i] >= round(num/2+0.1)/num*norm:\n",
    "            y_hat.append(1)\n",
    "        else:\n",
    "            y_hat.append(0)\n",
    "    return y_hat\n",
    "        "
   ]
  },
  {
   "attachments": {},
   "cell_type": "markdown",
   "metadata": {},
   "source": [
    "simple MSE cost function for weighted averaging"
   ]
  },
  {
   "cell_type": "code",
   "execution_count": 373,
   "metadata": {},
   "outputs": [],
   "source": [
    "def cost(params, y_list,y):\n",
    "    cost = 0\n",
    "    for i in range(len(y)):\n",
    "        weighted = 0\n",
    "        for j in range(len(y_list)):\n",
    "            weighted += params[j]*y_list[j][i] / len(params)\n",
    "        cost += ((weighted-y[i])**2) /len(y)\n",
    "\n",
    "    return cost"
   ]
  },
  {
   "cell_type": "code",
   "execution_count": 589,
   "metadata": {},
   "outputs": [],
   "source": [
    "import torch\n",
    "params = torch.ones(5,requires_grad = True)"
   ]
  },
  {
   "cell_type": "code",
   "execution_count": null,
   "metadata": {},
   "outputs": [],
   "source": [
    "# LBFGS optimizer\n",
    "opt = optim.LBFGS([params], lr=1e0)\n",
    "def closure():\n",
    "    opt.zero_grad()\n",
    "    loss = cost(params,[y1,y2,y3,y4],y_train)\n",
    "    loss.backward()\n",
    "    print(loss)\n",
    "    return loss\n",
    "# We just simply set large epochs and stop when it is trained enough\n",
    "for _ in range(10000): \n",
    "    opt.step(closure = closure)  \n",
    "    # writer.add_scalar('loss', closure().type(torch.float64), _)"
   ]
  },
  {
   "cell_type": "code",
   "execution_count": null,
   "metadata": {},
   "outputs": [],
   "source": [
    "import torch.optim as optim\n",
    "\n",
    "opt = optim.Adam([params], lr=1e1)\n",
    "# We just simply set large epochs and stop when it is trained enough\n",
    "for _ in range(10000):\n",
    "    opt.zero_grad()\n",
    "    \n",
    "    loss = cost(params,[vqcibm, vqcibm_DD, vqcionq,qsvmibm, qsvmionq], y0)\n",
    "    loss.backward()\n",
    "    opt.step()  \n",
    "    print(loss)"
   ]
  }
 ],
 "metadata": {
  "kernelspec": {
   "display_name": "Python 3",
   "language": "python",
   "name": "python3"
  },
  "language_info": {
   "codemirror_mode": {
    "name": "ipython",
    "version": 3
   },
   "file_extension": ".py",
   "mimetype": "text/x-python",
   "name": "python",
   "nbconvert_exporter": "python",
   "pygments_lexer": "ipython3",
   "version": "3.8.0"
  },
  "orig_nbformat": 4,
  "vscode": {
   "interpreter": {
    "hash": "830c63090170a2e2dfe34f9f29688475b9737a49e96ffc317f86b78207d49e11"
   }
  }
 },
 "nbformat": 4,
 "nbformat_minor": 2
}
