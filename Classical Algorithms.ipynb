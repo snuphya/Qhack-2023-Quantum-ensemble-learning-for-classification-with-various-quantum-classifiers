{
 "cells": [
  {
   "cell_type": "code",
   "execution_count": 4,
   "metadata": {},
   "outputs": [],
   "source": [
    "import pandas as pd\n",
    "import numpy as np\n",
    "\n",
    "from sklearn.model_selection import train_test_split \n",
    "from sklearn.metrics import accuracy_score, precision_score, recall_score, f1_score\n",
    "\n",
    "df = pd.read_csv('dataset/haberman.csv')\n",
    "\n",
    "feature_list = list(df.columns)\n",
    "feature_list.remove('class')\n",
    "features = df[feature_list]\n",
    "\n",
    "labels = df['class']\n",
    "\n",
    "train_features, test_features, train_labels, test_labels= train_test_split(\n",
    "    features,labels,test_size=0.2,random_state=1234, shuffle=True)"
   ]
  },
  {
   "cell_type": "code",
   "execution_count": 5,
   "metadata": {},
   "outputs": [],
   "source": [
    "# Changing labels from 1,2 to 0,1\n",
    "\n",
    "for i in range(len(train_labels)):\n",
    "    if train_labels.values[i] == 2:\n",
    "        train_labels.values[i] = 1\n",
    "    else:\n",
    "        train_labels.values[i] = 0\n",
    "for i in range(len(test_labels)):\n",
    "    if test_labels.values[i] == 2:\n",
    "        test_labels.values[i] = 1\n",
    "    else:\n",
    "        test_labels.values[i] = 0"
   ]
  },
  {
   "cell_type": "code",
   "execution_count": 6,
   "metadata": {},
   "outputs": [],
   "source": [
    "# Scaling data\n",
    "from sklearn.preprocessing import MinMaxScaler, StandardScaler, MaxAbsScaler\n",
    "scaler = MaxAbsScaler()\n",
    "scaler.fit(train_features)\n",
    "train_features = scaler.transform(train_features)\n",
    "test_features= scaler.transform(test_features)"
   ]
  },
  {
   "attachments": {},
   "cell_type": "markdown",
   "metadata": {},
   "source": [
    "We tested various classical classifying algorithms\n",
    "Results are below"
   ]
  },
  {
   "attachments": {},
   "cell_type": "markdown",
   "metadata": {},
   "source": [
    "Of course Classical algorithms can be more optimized, hyper parameter tuned to get better result, since we are focusing on optimizing Quantum classifiers, we simply ran classical algorithms without further consideration\n"
   ]
  },
  {
   "cell_type": "code",
   "execution_count": 7,
   "metadata": {},
   "outputs": [
    {
     "name": "stdout",
     "output_type": "stream",
     "text": [
      "XGboost Result\n",
      "accuracy : 0.6935\n",
      "precision : 0.6000\n",
      "recall : 0.2857\n",
      "F1-Score : 0.3871\n"
     ]
    }
   ],
   "source": [
    "import xgboost as xgb\n",
    "\n",
    "model = xgb.XGBClassifier(max_depth = 4, learning_rate =1e-4, random_state = 1234) \n",
    "model.fit(train_features, train_labels)\n",
    "y_true = np.array(test_labels)\n",
    "y_pred = model.predict(test_features)\n",
    "print('XGboost Result')\n",
    "print(\"accuracy : %.4f\" % accuracy_score(y_true, y_pred))\n",
    "print(\"precision : %.4f\" % precision_score(y_true, y_pred))\n",
    "print(\"recall : %.4f\" % recall_score(y_true, y_pred))\n",
    "print(\"F1-Score : %.4f\" % f1_score(y_true, y_pred))\n",
    "XGboost = [accuracy_score(y_true, y_pred),precision_score(y_true, y_pred),recall_score(y_true, y_pred),f1_score(y_true, y_pred)]"
   ]
  },
  {
   "cell_type": "code",
   "execution_count": 16,
   "metadata": {},
   "outputs": [
    {
     "name": "stdout",
     "output_type": "stream",
     "text": [
      "Lightgbm Result\n",
      "accuracy : 0.6290\n",
      "precision : 0.4167\n",
      "recall : 0.2381\n",
      "F1-Score : 0.3030\n"
     ]
    }
   ],
   "source": [
    "import lightgbm\n",
    "\n",
    "model = lightgbm.LGBMClassifier()\n",
    "model.fit(train_features, train_labels)\n",
    "y_true = np.array(test_labels)\n",
    "y_pred = model.predict(test_features)\n",
    "print('Lightgbm Result')\n",
    "print(\"accuracy : %.4f\" % accuracy_score(y_true, y_pred))\n",
    "print(\"precision : %.4f\" % precision_score(y_true, y_pred))\n",
    "print(\"recall : %.4f\" % recall_score(y_true, y_pred))\n",
    "print(\"F1-Score : %.4f\" % f1_score(y_true, y_pred))\n",
    "LGBM = [accuracy_score(y_true, y_pred),precision_score(y_true, y_pred),recall_score(y_true, y_pred),f1_score(y_true, y_pred)]"
   ]
  },
  {
   "cell_type": "code",
   "execution_count": 17,
   "metadata": {},
   "outputs": [
    {
     "name": "stdout",
     "output_type": "stream",
     "text": [
      "RandomForest Result\n",
      "accuracy : 0.6774\n",
      "precision : 0.5556\n",
      "recall : 0.2381\n",
      "F1-Score : 0.3333\n"
     ]
    }
   ],
   "source": [
    "from sklearn.ensemble import RandomForestClassifier\n",
    "\n",
    "model = RandomForestClassifier(n_estimators = 500, max_depth = 4, max_features = 3, bootstrap = True, random_state = 18)\n",
    "model.fit(train_features, train_labels)\n",
    "y_true = np.array(test_labels)\n",
    "y_pred = model.predict(test_features)\n",
    "print('RandomForest Result')\n",
    "print(\"accuracy : %.4f\" % accuracy_score(y_true, y_pred))\n",
    "print(\"precision : %.4f\" % precision_score(y_true, y_pred))\n",
    "print(\"recall : %.4f\" % recall_score(y_true, y_pred))\n",
    "print(\"F1-Score : %.4f\" % f1_score(y_true, y_pred))\n",
    "RF = [accuracy_score(y_true, y_pred),precision_score(y_true, y_pred),recall_score(y_true, y_pred),f1_score(y_true, y_pred)]"
   ]
  },
  {
   "cell_type": "code",
   "execution_count": 18,
   "metadata": {},
   "outputs": [
    {
     "name": "stdout",
     "output_type": "stream",
     "text": [
      "Logistic Regression Result\n",
      "accuracy : 0.6774\n",
      "precision : 0.5556\n",
      "recall : 0.2381\n",
      "F1-Score : 0.3333\n"
     ]
    }
   ],
   "source": [
    "from sklearn.linear_model import LogisticRegression\n",
    "\n",
    "model = LogisticRegression(max_iter = 1000)\n",
    "model.fit(train_features, train_labels)\n",
    "print('Logistic Regression Result')\n",
    "print(\"accuracy : %.4f\" % accuracy_score(y_true, y_pred))\n",
    "print(\"precision : %.4f\" % precision_score(y_true, y_pred))\n",
    "print(\"recall : %.4f\" % recall_score(y_true, y_pred))\n",
    "print(\"F1-Score : %.4f\" % f1_score(y_true, y_pred))\n",
    "LR = [accuracy_score(y_true, y_pred),precision_score(y_true, y_pred),recall_score(y_true, y_pred),f1_score(y_true, y_pred)]"
   ]
  },
  {
   "cell_type": "code",
   "execution_count": 19,
   "metadata": {},
   "outputs": [
    {
     "name": "stdout",
     "output_type": "stream",
     "text": [
      "Decision Tree Result\n",
      "accuracy : 0.6774\n",
      "precision : 0.5556\n",
      "recall : 0.2381\n",
      "F1-Score : 0.3333\n"
     ]
    }
   ],
   "source": [
    "from sklearn.tree import DecisionTreeClassifier\n",
    "\n",
    "clf = DecisionTreeClassifier()\n",
    "model = clf.fit(train_features, train_labels)\n",
    "print('Decision Tree Result')\n",
    "print(\"accuracy : %.4f\" % accuracy_score(y_true, y_pred))\n",
    "print(\"precision : %.4f\" % precision_score(y_true, y_pred))\n",
    "print(\"recall : %.4f\" % recall_score(y_true, y_pred))\n",
    "print(\"F1-Score : %.4f\" % f1_score(y_true, y_pred))\n",
    "DT = [accuracy_score(y_true, y_pred),precision_score(y_true, y_pred),recall_score(y_true, y_pred),f1_score(y_true, y_pred)]"
   ]
  },
  {
   "cell_type": "code",
   "execution_count": 20,
   "metadata": {},
   "outputs": [
    {
     "name": "stdout",
     "output_type": "stream",
     "text": [
      "K-nearest neighbors Result\n",
      "accuracy : 0.6774\n",
      "precision : 0.5556\n",
      "recall : 0.2381\n",
      "F1-Score : 0.3333\n"
     ]
    }
   ],
   "source": [
    "from sklearn.neighbors import KNeighborsClassifier\n",
    "\n",
    "model = KNeighborsClassifier(n_neighbors=3)\n",
    "model.fit(train_features, train_labels)\n",
    "print('K-nearest neighbors Result')\n",
    "print(\"accuracy : %.4f\" % accuracy_score(y_true, y_pred))\n",
    "print(\"precision : %.4f\" % precision_score(y_true, y_pred))\n",
    "print(\"recall : %.4f\" % recall_score(y_true, y_pred))\n",
    "print(\"F1-Score : %.4f\" % f1_score(y_true, y_pred))\n",
    "KNN = [accuracy_score(y_true, y_pred),precision_score(y_true, y_pred),recall_score(y_true, y_pred),f1_score(y_true, y_pred)]"
   ]
  },
  {
   "cell_type": "code",
   "execution_count": 21,
   "metadata": {},
   "outputs": [
    {
     "name": "stdout",
     "output_type": "stream",
     "text": [
      "Naive bayes Result\n",
      "accuracy : 0.6774\n",
      "precision : 0.5556\n",
      "recall : 0.2381\n",
      "F1-Score : 0.3333\n"
     ]
    }
   ],
   "source": [
    "from sklearn.naive_bayes import GaussianNB\n",
    "gnb = GaussianNB()\n",
    "model = gnb.fit(train_features, train_labels)\n",
    "print('Naive bayes Result')\n",
    "print(\"accuracy : %.4f\" % accuracy_score(y_true, y_pred))\n",
    "print(\"precision : %.4f\" % precision_score(y_true, y_pred))\n",
    "print(\"recall : %.4f\" % recall_score(y_true, y_pred))\n",
    "print(\"F1-Score : %.4f\" % f1_score(y_true, y_pred))\n",
    "Naive = [accuracy_score(y_true, y_pred),precision_score(y_true, y_pred),recall_score(y_true, y_pred),f1_score(y_true, y_pred)]"
   ]
  },
  {
   "cell_type": "code",
   "execution_count": 22,
   "metadata": {},
   "outputs": [
    {
     "name": "stdout",
     "output_type": "stream",
     "text": [
      "K-means clustering Result\n",
      "accuracy : 0.6774\n",
      "precision : 0.5556\n",
      "recall : 0.2381\n",
      "F1-Score : 0.3333\n"
     ]
    }
   ],
   "source": [
    "from sklearn.cluster import KMeans\n",
    "\n",
    "kmeans = KMeans(n_clusters = 2)\n",
    "model = kmeans.fit(train_features)\n",
    "print('K-means clustering Result')\n",
    "print(\"accuracy : %.4f\" % accuracy_score(y_true, y_pred))\n",
    "print(\"precision : %.4f\" % precision_score(y_true, y_pred))\n",
    "print(\"recall : %.4f\" % recall_score(y_true, y_pred))\n",
    "print(\"F1-Score : %.4f\" % f1_score(y_true, y_pred))\n",
    "KMC = [accuracy_score(y_true, y_pred),precision_score(y_true, y_pred),recall_score(y_true, y_pred),f1_score(y_true, y_pred)]"
   ]
  },
  {
   "cell_type": "code",
   "execution_count": 51,
   "metadata": {},
   "outputs": [
    {
     "data": {
      "image/png": "[encoded data removed]",
      "text/plain": [
       "<Figure size 864x432 with 1 Axes>"
      ]
     },
     "metadata": {
      "needs_background": "light"
     },
     "output_type": "display_data"
    }
   ],
   "source": [
    "import matplotlib.pyplot as plt\n",
    "import numpy as np\n",
    "\n",
    "fig, ax = plt.subplots(figsize=(12,6))\n",
    "bar_width = 0.25\n",
    "\n",
    "index = np.arange(4)#\n",
    "\n",
    "b1 = plt.bar(index, XGboost, 0.1, alpha=0.4, color='red', label='XGBoost')\n",
    "b2 = plt.bar(index+0.1, LGBM, 0.1, alpha=0.4, color='green', label='Lightgbm')\n",
    "b3 = plt.bar(index+0.2, RF,0.1, alpha=0.4, color='blue', label='RandomForest')\n",
    "b4 = plt.bar(index+0.3, LR, 0.1, alpha=0.4, color='black', label='LogisticRegression')\n",
    "b5 = plt.bar(index+0.4, DT, 0.1, alpha=0.4, color='orange', label='DecisionTree')\n",
    "b6 = plt.bar(index+0.5, KNN, 0.1, alpha=0.4, color='yellow', label='K-Nearest-Neighbors')\n",
    "b7 = plt.bar(index+0.6, Naive, 0.1, alpha=0.4, color='olive', label='Naive Bayes')\n",
    "b8 = plt.bar(index+0.7, KMC, 0.1, alpha=0.4, color='royalblue', label='K-means-clustering')\n",
    "plt.xticks(np.arange(bar_width, 4 + bar_width, 1),['accuracy', 'precision', 'recall', 'F1-score'])\n",
    "plt.xlabel('Metrics', size = 13)\n",
    "plt.ylabel('Value', size = 13)\n",
    "plt.legend()\n",
    "plt.show()"
   ]
  }
 ],
 "metadata": {
  "kernelspec": {
   "display_name": "Python 3",
   "language": "python",
   "name": "python3"
  },
  "language_info": {
   "codemirror_mode": {
    "name": "ipython",
    "version": 3
   },
   "file_extension": ".py",
   "mimetype": "text/x-python",
   "name": "python",
   "nbconvert_exporter": "python",
   "pygments_lexer": "ipython3",
   "version": "3.8.0"
  },
  "orig_nbformat": 4,
  "vscode": {
   "interpreter": {
    "hash": "830c63090170a2e2dfe34f9f29688475b9737a49e96ffc317f86b78207d49e11"
   }
  }
 },
 "nbformat": 4,
 "nbformat_minor": 2
}
